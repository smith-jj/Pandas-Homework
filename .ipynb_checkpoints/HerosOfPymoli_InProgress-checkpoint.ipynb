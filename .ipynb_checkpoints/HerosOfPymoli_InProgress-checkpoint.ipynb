{
 "cells": [
  {
   "cell_type": "code",
   "execution_count": null,
   "metadata": {},
   "outputs": [],
   "source": [
    "# Dependencies and Setup\n",
    "import pandas as pd\n",
    "import numpy as np"
   ]
  },
  {
   "cell_type": "code",
   "execution_count": null,
   "metadata": {},
   "outputs": [],
   "source": [
    "# Load CSV\n",
    "purchase_data = \"Resources/purchase_data.csv\"\n",
    "\n",
    "# Read Purchasing File and store into Pandas data frame\n",
    "purchase_df = pd.read_csv(purchase_data)\n",
    "purchase_df.head()"
   ]
  },
  {
   "cell_type": "code",
   "execution_count": null,
   "metadata": {},
   "outputs": [],
   "source": [
    "# Current Column Labels \n",
    "purchase_df.columns"
   ]
  },
  {
   "cell_type": "code",
   "execution_count": null,
   "metadata": {},
   "outputs": [],
   "source": [
    "# Update Column Labels \n",
    "purchase_df.columns = ['Purchase_ID', 'Players', 'Age', 'Gender', 'Item_ID', 'Item_Name', 'Price']"
   ]
  },
  {
   "cell_type": "code",
   "execution_count": null,
   "metadata": {
    "scrolled": true
   },
   "outputs": [],
   "source": [
    "# Check Changes \n",
    "purchase_df.columns"
   ]
  },
  {
   "cell_type": "code",
   "execution_count": null,
   "metadata": {
    "scrolled": false
   },
   "outputs": [],
   "source": [
    "# View updated dataframe \n",
    "purchase_df.head()"
   ]
  },
  {
   "cell_type": "code",
   "execution_count": null,
   "metadata": {},
   "outputs": [],
   "source": [
    "# Decribe Data \n",
    "purchase_df.describe()"
   ]
  },
  {
   "cell_type": "code",
   "execution_count": null,
   "metadata": {},
   "outputs": [],
   "source": [
    "# HOORAY CLEANLINESS"
   ]
  },
  {
   "cell_type": "markdown",
   "metadata": {},
   "source": [
    "# Player Count\n",
    "    Display the total number of players"
   ]
  },
  {
   "cell_type": "code",
   "execution_count": null,
   "metadata": {},
   "outputs": [],
   "source": [
    "# Player Count - Display the total number of players\n",
    "total_players = purchase_df.groupby([\"Players\"])\n",
    "len(total_players)"
   ]
  },
  {
   "cell_type": "code",
   "execution_count": null,
   "metadata": {},
   "outputs": [],
   "source": [
    "total_players_df = pd.DataFrame({\"Total_Players\": [len(total_players)]})\n",
    "total_players_df"
   ]
  },
  {
   "cell_type": "code",
   "execution_count": null,
   "metadata": {},
   "outputs": [],
   "source": [
    "# Next section"
   ]
  },
  {
   "cell_type": "markdown",
   "metadata": {},
   "source": [
    "# Purchasing Analysis (Total)\n",
    "     Run basic calculations to obtain number of unique items, average price, etc.\n",
    "     Create a summary data frame to hold the results\n",
    "     Optional: give the displayed data cleaner formatting\n",
    "     Display the summary data frame"
   ]
  },
  {
   "cell_type": "code",
   "execution_count": null,
   "metadata": {},
   "outputs": [],
   "source": [
    "# Number of Unique Items \n",
    "Number_of_Unique_Items = purchase_df.groupby('Item_ID')['Item_ID'].count()\n",
    "Number_of_Unique_Items.head()"
   ]
  },
  {
   "cell_type": "code",
   "execution_count": null,
   "metadata": {},
   "outputs": [],
   "source": [
    "Number_of_Unique_Items.describe()"
   ]
  },
  {
   "cell_type": "code",
   "execution_count": null,
   "metadata": {},
   "outputs": [],
   "source": [
    "Number_of_Unique_Items.count()"
   ]
  },
  {
   "cell_type": "code",
   "execution_count": null,
   "metadata": {},
   "outputs": [],
   "source": [
    "# Average Price \n",
    "Average_Price = np.around(purchase_df[\"Price\"].mean(), decimals=2)\n",
    "Average_Price"
   ]
  },
  {
   "cell_type": "code",
   "execution_count": null,
   "metadata": {},
   "outputs": [],
   "source": [
    "# Number of Purchases\n",
    "Number_of_Purchases = purchase_df.Item_ID.count()\n",
    "Number_of_Purchases"
   ]
  },
  {
   "cell_type": "code",
   "execution_count": null,
   "metadata": {},
   "outputs": [],
   "source": [
    "# Total Revenue\n",
    "Total_Revenue = np.around(purchase_df.Price.sum(), decimals=2)\n",
    "Total_Revenue "
   ]
  },
  {
   "cell_type": "code",
   "execution_count": null,
   "metadata": {},
   "outputs": [],
   "source": [
    "Purchasing_Analysis_df = pd.DataFrame({\"Number_of_Unique_Items \": [Number_of_Unique_Items.count()],\n",
    "                           \"Average_Price\": [Average_Price],\n",
    "                           \"Number_of_Purchases\": [Number_of_Purchases],\n",
    "                           \"Total_Revenue\": [Total_Revenue ]})\n",
    "Purchasing_Analysis_df"
   ]
  },
  {
   "cell_type": "code",
   "execution_count": null,
   "metadata": {},
   "outputs": [],
   "source": [
    "# Next section"
   ]
  },
  {
   "cell_type": "markdown",
   "metadata": {},
   "source": [
    "# Gender Demographics\n",
    "    Percentage and Count of Male Players\n",
    "    Percentage and Count of Female Players\n",
    "    Percentage and Count of Other / Non-Disclosed"
   ]
  },
  {
   "cell_type": "code",
   "execution_count": null,
   "metadata": {},
   "outputs": [],
   "source": [
    "# Find Male Players \n",
    "gender_males = purchase_df.loc[purchase_df[\"Gender\"] == \"Male\"]\n",
    "gender_males.head()"
   ]
  },
  {
   "cell_type": "code",
   "execution_count": null,
   "metadata": {},
   "outputs": [],
   "source": [
    "# Group Male Players and calculate total \n",
    "total_males = gender_males.groupby([\"Players\"])\n",
    "len(total_males)"
   ]
  },
  {
   "cell_type": "code",
   "execution_count": null,
   "metadata": {},
   "outputs": [],
   "source": [
    "# Find Female Players\n",
    "gender_females = purchase_df.loc[purchase_df[\"Gender\"] == \"Female\"]\n",
    "gender_females.head()"
   ]
  },
  {
   "cell_type": "code",
   "execution_count": null,
   "metadata": {},
   "outputs": [],
   "source": [
    "# Group Female Players and calculate total \n",
    "total_females = gender_females.groupby([\"Players\"])\n",
    "len(total_females)"
   ]
  },
  {
   "cell_type": "code",
   "execution_count": null,
   "metadata": {},
   "outputs": [],
   "source": [
    "# Find Other / Non-Disclosed Players\n",
    "gender_other = purchase_df.loc[purchase_df[\"Gender\"] == \"Other / Non-Disclosed\"] \n",
    "gender_other.head()"
   ]
  },
  {
   "cell_type": "code",
   "execution_count": null,
   "metadata": {},
   "outputs": [],
   "source": [
    "# Group and calculate total \n",
    "total_other = gender_other.groupby([\"Players\"])\n",
    "len(total_other)"
   ]
  },
  {
   "cell_type": "code",
   "execution_count": null,
   "metadata": {},
   "outputs": [],
   "source": [
    "# Determine the percentage of Male purhcases\n",
    "percent_males = len(total_males) / len(total_players) * 100\n",
    "males_round = np.around(percent_males, decimals=2)\n",
    "males_round"
   ]
  },
  {
   "cell_type": "code",
   "execution_count": null,
   "metadata": {},
   "outputs": [],
   "source": [
    "# Determine the percentage of Female purhcases\n",
    "percent_females = len(total_females) / len(total_players) * 100\n",
    "females_round = np.around(percent_females, decimals=2)\n",
    "females_round"
   ]
  },
  {
   "cell_type": "code",
   "execution_count": null,
   "metadata": {},
   "outputs": [],
   "source": [
    "# Determine the percentage of Other purhcases\n",
    "percent_other = len(total_other) / len(total_players) * 100\n",
    "other_round = np.around(percent_other, decimals=2)\n",
    "other_round"
   ]
  },
  {
   "cell_type": "code",
   "execution_count": null,
   "metadata": {},
   "outputs": [],
   "source": [
    "# initialise data of lists. \n",
    "gender_data = {'Total_Count':[len(total_males), len(total_females), len(total_other)], 'Percentage_of_Players':[males_round, females_round, other_round]} \n",
    "  \n",
    "# Creates pandas DataFrame. \n",
    "Gender_Demographics_df = pd.DataFrame(gender_data, index =['Male', 'Female', 'Other / Non-Disclosed']) \n",
    "  \n",
    "# print the data \n",
    "Gender_Demographics_df"
   ]
  },
  {
   "cell_type": "code",
   "execution_count": null,
   "metadata": {},
   "outputs": [],
   "source": [
    "# Next Section"
   ]
  },
  {
   "cell_type": "markdown",
   "metadata": {},
   "source": [
    "# Purchasing Analysis (Gender)\n",
    "     Run basic calculations to obtain purchase count, avg. purchase price, avg. purchase total per person etc. by gender\n",
    "     Create a summary data frame to hold the results\n",
    "     Optional: give the displayed data cleaner formatting\n",
    "     Display the summary data frame"
   ]
  },
  {
   "cell_type": "code",
   "execution_count": null,
   "metadata": {},
   "outputs": [],
   "source": [
    "# Find the Total Count of purchases by Gender \n",
    "Gender_Purchases = purchase_df.groupby('Gender')['Item_ID'].count()\n",
    "Gender_Purchases.head()"
   ]
  },
  {
   "cell_type": "code",
   "execution_count": null,
   "metadata": {},
   "outputs": [],
   "source": [
    "# DataFrame for Total Count of purchases by Gender - need to change Column name \n",
    "Gender_Purchases_df = pd.DataFrame(Gender_Purchases)\n",
    "Gender_Purchases_df"
   ]
  },
  {
   "cell_type": "code",
   "execution_count": null,
   "metadata": {},
   "outputs": [],
   "source": [
    "# Rename the \"Item_ID\" column to \"Purchase Count\"\n",
    "Gender_Purchases_df = Gender_Purchases_df.rename(\n",
    "    columns={\"Item_ID\": \"Purchase_Count\"})\n",
    "Gender_Purchases_df.head()"
   ]
  },
  {
   "cell_type": "code",
   "execution_count": null,
   "metadata": {},
   "outputs": [],
   "source": [
    "# Find Average Purcahse Pruchase Price by Gender \n",
    "Gender_Avg_Prices = purchase_df.groupby('Gender')['Price'].mean()\n",
    "Gender_Avg_Prices.head()"
   ]
  },
  {
   "cell_type": "code",
   "execution_count": null,
   "metadata": {},
   "outputs": [],
   "source": [
    "# DataFrame for Average Purhcase Price by Gender - need to change Column name \n",
    "Gender_Avg_Prices_df = pd.DataFrame(Gender_Avg_Prices)\n",
    "Gender_Avg_Prices_df"
   ]
  },
  {
   "cell_type": "code",
   "execution_count": null,
   "metadata": {},
   "outputs": [],
   "source": [
    "# Rename the \"Price\" column to \"Average Purchase Price\"\n",
    "Gender_Avg_Prices_df = Gender_Avg_Prices_df.rename(\n",
    "    columns={\"Price\": \"Average Purchase_Price\"})\n",
    "Gender_Avg_Prices_df.head()"
   ]
  },
  {
   "cell_type": "code",
   "execution_count": null,
   "metadata": {},
   "outputs": [],
   "source": [
    "# Find the Total Purchase Value by Gender \n",
    "Gender_Sum_Prices = purchase_df.groupby('Gender')['Price'].sum()\n",
    "Gender_Sum_Prices.head()"
   ]
  },
  {
   "cell_type": "code",
   "execution_count": null,
   "metadata": {},
   "outputs": [],
   "source": [
    "# DataFrame for Total Purchase Value by Gender - need to change Column name \n",
    "Gender_Sum_Prices_df = pd.DataFrame(Gender_Sum_Prices)\n",
    "Gender_Sum_Prices_df.head()"
   ]
  },
  {
   "cell_type": "code",
   "execution_count": null,
   "metadata": {},
   "outputs": [],
   "source": [
    "# Rename the \"Price\" column to \"Total Purchase Value\"\n",
    "Gender_Sum_Prices_df = Gender_Sum_Prices_df.rename(\n",
    "    columns={\"Price\": \"Total_Purchase_Value\"})\n",
    "Gender_Sum_Prices_df.head()"
   ]
  },
  {
   "cell_type": "code",
   "execution_count": null,
   "metadata": {
    "scrolled": true
   },
   "outputs": [],
   "source": [
    "gender_table_one_df = pd.merge(Gender_Purchases_df, Gender_Avg_Prices_df, on=\"Gender\")\n",
    "gender_table_one_df"
   ]
  },
  {
   "cell_type": "code",
   "execution_count": null,
   "metadata": {},
   "outputs": [],
   "source": [
    "gender_table_two_df = pd.merge(gender_table_one_df, Gender_Sum_Prices_df, on=\"Gender\")\n",
    "gender_table_two_df"
   ]
  },
  {
   "cell_type": "code",
   "execution_count": null,
   "metadata": {},
   "outputs": [],
   "source": [
    "# Create a New Column \"Avg Total Purchase per Person\" that calculates the average total purchase price per person by Gender \n",
    "gender_table_two_df[\"Avg_Total_Purchase_per_Person\"] = len(Gender_Purchases_df) / Gender_Sum_Prices_df \n",
    "gender_table_two_df"
   ]
  },
  {
   "cell_type": "code",
   "execution_count": null,
   "metadata": {},
   "outputs": [],
   "source": [
    "# Next section"
   ]
  },
  {
   "cell_type": "markdown",
   "metadata": {},
   "source": [
    "# Age Demographics\n",
    "     Establish bins for ages\n",
    "     Categorize the existing players using the age bins. Hint: use pd.cut()\n",
    "     Calculate the numbers and percentages by age group\n",
    "     Create a summary data frame to hold the results\n",
    "     Optional: round the percentage column to two decimal points\n",
    "     Display Age Demographics Table"
   ]
  },
  {
   "cell_type": "code",
   "execution_count": null,
   "metadata": {
    "scrolled": true
   },
   "outputs": [],
   "source": [
    "print(purchase_df.Age.max())"
   ]
  },
  {
   "cell_type": "code",
   "execution_count": null,
   "metadata": {},
   "outputs": [],
   "source": [
    "print(purchase_df.Age.min())"
   ]
  },
  {
   "cell_type": "code",
   "execution_count": null,
   "metadata": {},
   "outputs": [],
   "source": [
    "# Create the bins for Ages \n",
    "bins = [0, 9, 14, 19, 24, 29, 34, 39, 45]\n",
    "\n",
    "# Create the names for the bins\n",
    "Age_labels = [\"<10\", \"10-14\", \"15-19\", \"20-24\", \"25-29\", \"30-34\", \"35-39\", \"40+\"]"
   ]
  },
  {
   "cell_type": "code",
   "execution_count": null,
   "metadata": {},
   "outputs": [],
   "source": [
    "# pd.cut for binning \n",
    "Age_Demographics = pd.cut(purchase_df[\"Age\"], bins, labels=Age_labels)\n",
    "Age_Demographics.head()"
   ]
  },
  {
   "cell_type": "code",
   "execution_count": null,
   "metadata": {},
   "outputs": [],
   "source": [
    "# run dataframe for bins \n",
    "Age_Demographics_df = pd.DataFrame(Age_Demographics)\n",
    "Age_Demographics_df.head()"
   ]
  },
  {
   "cell_type": "code",
   "execution_count": null,
   "metadata": {},
   "outputs": [],
   "source": [
    "# groupby bins and count \n",
    "age_group = Age_Demographics_df.groupby(\"Age\")\n",
    "age_table = age_group['Age'].count()\n",
    "age_table"
   ]
  },
  {
   "cell_type": "code",
   "execution_count": null,
   "metadata": {},
   "outputs": [],
   "source": [
    "# Turn into a Dataframe\n",
    "age_grp_df = pd.DataFrame(age_table)\n",
    "age_grp_df"
   ]
  },
  {
   "cell_type": "code",
   "execution_count": null,
   "metadata": {},
   "outputs": [],
   "source": [
    "# Rename the \"Age\" column to \"Total Count\"\n",
    "age_grp_df = age_grp_df.rename(\n",
    "    columns={\"Age\": \"Total_Count\"})\n",
    "age_grp_df"
   ]
  },
  {
   "cell_type": "code",
   "execution_count": null,
   "metadata": {},
   "outputs": [],
   "source": [
    "# Determine the percentage of each age group & Create a New Column \"Percentage of Players\"  \n",
    "age_grp_df[\"Percentage_of_Players\"] =  (age_grp_df[\"Total_Count\"]) / len(total_players) * 100\n",
    "age_grp_df\n",
    "# I believe the numbers are off due to not consolidating the players before creating the bins "
   ]
  },
  {
   "cell_type": "code",
   "execution_count": null,
   "metadata": {},
   "outputs": [],
   "source": [
    "# Next section "
   ]
  },
  {
   "cell_type": "markdown",
   "metadata": {},
   "source": [
    "# Purchasing Analysis (Age)\n",
    "    Bin the purchase_data data frame by age\n",
    "    Run basic calculations to obtain: \n",
    "        purchase count, avg. purchase price, avg. purchase total per person etc. in the table below\n",
    "    Create a summary data frame to hold the results\n",
    "    Optional: give the displayed data cleaner formatting\n",
    "    Display the summary data frame"
   ]
  },
  {
   "cell_type": "code",
   "execution_count": null,
   "metadata": {},
   "outputs": [],
   "source": [
    "age_players_data =  purchase_df.groupby([\"Age\"])"
   ]
  },
  {
   "cell_type": "code",
   "execution_count": null,
   "metadata": {},
   "outputs": [],
   "source": [
    "def get_stats(group):\n",
    "    return {'count': group.count(), 'mean': group.mean(), 'sum': group.sum()}"
   ]
  },
  {
   "cell_type": "code",
   "execution_count": null,
   "metadata": {},
   "outputs": [],
   "source": [
    "# Create the bins for Ages \n",
    "bins = [0, 9, 14, 19, 24, 29, 34, 39, 45]\n",
    "\n",
    "# Create the names for the bins\n",
    "Age_labels = [\"<10\", \"10-14\", \"15-19\", \"20-24\", \"25-29\", \"30-34\", \"35-39\", \"40+\"]"
   ]
  },
  {
   "cell_type": "code",
   "execution_count": null,
   "metadata": {},
   "outputs": [],
   "source": [
    "ted_df[\"View Group\"] = pd.cut(ted_df[\"views\"], bins, labels=group_labels)\n",
    "ted_df.head()"
   ]
  },
  {
   "cell_type": "code",
   "execution_count": null,
   "metadata": {},
   "outputs": [],
   "source": [
    "# run dataframe for bins \n",
    "Age_Analysis_df = pd.DataFrame(age_players_data)\n",
    "Age_Analysis_df.head()"
   ]
  },
  {
   "cell_type": "code",
   "execution_count": null,
   "metadata": {},
   "outputs": [],
   "source": []
  },
  {
   "cell_type": "code",
   "execution_count": null,
   "metadata": {},
   "outputs": [],
   "source": []
  },
  {
   "cell_type": "code",
   "execution_count": null,
   "metadata": {},
   "outputs": [],
   "source": []
  },
  {
   "cell_type": "code",
   "execution_count": null,
   "metadata": {},
   "outputs": [],
   "source": []
  },
  {
   "cell_type": "markdown",
   "metadata": {},
   "source": [
    "# Top Spenders\n",
    "    Run basic calculations to the Purchase Count, Average Purchase Price, Total Purchase Value by Player (use Screenames)\n",
    "    Create a summary data frame to hold the results\n",
    "    Sort the total purchase value column in descending order\n",
    "    Optional: give the displayed data cleaner formatting\n",
    "    Display a preview of the summary data frame"
   ]
  },
  {
   "cell_type": "code",
   "execution_count": null,
   "metadata": {},
   "outputs": [],
   "source": [
    "# Groupby Player's and price\n",
    "Player_Purchases = purchase_df.groupby('Players')['Price']\n",
    "Player_Purchases.head()"
   ]
  },
  {
   "cell_type": "code",
   "execution_count": null,
   "metadata": {},
   "outputs": [],
   "source": [
    "# Groupby Player's and price\n",
    "Player_Purchase_Count = Player_Purchases.count()\n",
    "Player_Purchase_Count.head()"
   ]
  },
  {
   "cell_type": "code",
   "execution_count": null,
   "metadata": {},
   "outputs": [],
   "source": [
    "# Create DataFrame \n",
    "Player_Purchases_df = pd.DataFrame(Player_Purchase_Count)\n",
    "Player_Purchases_df.head()"
   ]
  },
  {
   "cell_type": "code",
   "execution_count": null,
   "metadata": {},
   "outputs": [],
   "source": [
    "# Sort Dataframe highest amount of purchases to lowest\n",
    "Sorted_Player_Purchases_df = Player_Purchases_df.sort_values(by=['Price'], ascending=False)\n",
    "Sorted_Player_Purchases_df.head()"
   ]
  },
  {
   "cell_type": "code",
   "execution_count": null,
   "metadata": {},
   "outputs": [],
   "source": [
    "# Rename \"Price\" column to \"Purchase_Count\"\n",
    "Sorted_Player_Purchases_df = Sorted_Player_Purchases_df.rename(\n",
    "    columns={\"Price\": \"Purchase_Count\"})\n",
    "Sorted_Player_Purchases_df.head()"
   ]
  },
  {
   "cell_type": "code",
   "execution_count": null,
   "metadata": {},
   "outputs": [],
   "source": [
    "# Add Column for Average_Purchase_Price per Player\n",
    "Sorted_Player_Purchases_df[\"Average_Purchase_Price\"] = purchase_df[\"Price\"].mean()\n",
    "Sorted_Player_Purchases_df.head()"
   ]
  },
  {
   "cell_type": "code",
   "execution_count": null,
   "metadata": {},
   "outputs": [],
   "source": [
    "# Add Column for Total Purchase_Value per Player\n",
    "Sorted_Player_Purchases_df[\"Purchase_Value\"] = Player_Purchases[\"Price\"].agg(sum)\n",
    "Sorted_Player_Purchases_df.head()"
   ]
  },
  {
   "cell_type": "code",
   "execution_count": null,
   "metadata": {},
   "outputs": [],
   "source": []
  },
  {
   "cell_type": "code",
   "execution_count": null,
   "metadata": {},
   "outputs": [],
   "source": []
  },
  {
   "cell_type": "code",
   "execution_count": null,
   "metadata": {},
   "outputs": [],
   "source": []
  },
  {
   "cell_type": "code",
   "execution_count": null,
   "metadata": {},
   "outputs": [],
   "source": []
  },
  {
   "cell_type": "code",
   "execution_count": null,
   "metadata": {},
   "outputs": [],
   "source": []
  },
  {
   "cell_type": "markdown",
   "metadata": {},
   "source": [
    "# Most Popular Items\n",
    "     Retrieve the Item ID, Item Name, and Item Price columns\n",
    "     Group by Item ID and Item Name. Perform calculations to obtain purchase count, item price, and total purchase value\n",
    "     Create a summary data frame to hold the results\n",
    "     Sort the purchase count column in descending order\n",
    "     Optional: give the displayed data cleaner formatting\n",
    "     Display a preview of the summary data frame"
   ]
  },
  {
   "cell_type": "code",
   "execution_count": null,
   "metadata": {},
   "outputs": [],
   "source": [
    "# Retrieve the Item ID, Item Name, and Item Price columns\n",
    "most_pop = purchase_df[[\"Item_ID\", \"Item_Name\", \"Price\"]]\n",
    "most_pop.head()"
   ]
  },
  {
   "cell_type": "code",
   "execution_count": null,
   "metadata": {},
   "outputs": [],
   "source": [
    "# Group by Item ID and Item Name\n",
    "grpby_most_pop = most_pop.groupby(\"Item_ID\")\n",
    "most_pop_table = pd.DataFrame(grpby_most_pop[\"Item_Name\"].value_counts()\n",
    "                         "
   ]
  },
  {
   "cell_type": "code",
   "execution_count": null,
   "metadata": {},
   "outputs": [],
   "source": []
  },
  {
   "cell_type": "code",
   "execution_count": null,
   "metadata": {},
   "outputs": [],
   "source": []
  },
  {
   "cell_type": "code",
   "execution_count": null,
   "metadata": {},
   "outputs": [],
   "source": []
  },
  {
   "cell_type": "code",
   "execution_count": null,
   "metadata": {},
   "outputs": [],
   "source": []
  },
  {
   "cell_type": "code",
   "execution_count": null,
   "metadata": {},
   "outputs": [],
   "source": []
  },
  {
   "cell_type": "markdown",
   "metadata": {},
   "source": [
    "# Most Profitable Items\n",
    "     Sort the above table by total purchase value in descending order\n",
    "     Optional: give the displayed data cleaner formatting \n",
    "     Display a preview of the data frame"
   ]
  },
  {
   "cell_type": "code",
   "execution_count": null,
   "metadata": {},
   "outputs": [],
   "source": []
  },
  {
   "cell_type": "code",
   "execution_count": null,
   "metadata": {},
   "outputs": [],
   "source": []
  },
  {
   "cell_type": "code",
   "execution_count": null,
   "metadata": {},
   "outputs": [],
   "source": []
  },
  {
   "cell_type": "code",
   "execution_count": null,
   "metadata": {},
   "outputs": [],
   "source": []
  },
  {
   "cell_type": "code",
   "execution_count": null,
   "metadata": {},
   "outputs": [],
   "source": []
  },
  {
   "cell_type": "code",
   "execution_count": null,
   "metadata": {},
   "outputs": [],
   "source": []
  },
  {
   "cell_type": "code",
   "execution_count": null,
   "metadata": {},
   "outputs": [],
   "source": []
  }
 ],
 "metadata": {
  "kernelspec": {
   "display_name": "Python 3",
   "language": "python",
   "name": "python3"
  },
  "language_info": {
   "codemirror_mode": {
    "name": "ipython",
    "version": 3
   },
   "file_extension": ".py",
   "mimetype": "text/x-python",
   "name": "python",
   "nbconvert_exporter": "python",
   "pygments_lexer": "ipython3",
   "version": "3.7.3"
  }
 },
 "nbformat": 4,
 "nbformat_minor": 2
}
